{
 "cells": [
  {
   "cell_type": "code",
   "execution_count": 1,
   "metadata": {},
   "outputs": [],
   "source": [
    "import numpy as np # linear algebra\n",
    "import pandas as pd # data processing, CSV file I/O (e.g. pd.read_csv)"
   ]
  },
  {
   "cell_type": "code",
   "execution_count": 2,
   "metadata": {},
   "outputs": [
    {
     "name": "stderr",
     "output_type": "stream",
     "text": [
      "22/03/25 16:22:51 WARN Utils: Your hostname, futamatatakuminoMacBook-Pro.local resolves to a loopback address: 127.0.0.1; using 192.168.1.64 instead (on interface en0)\n",
      "22/03/25 16:22:51 WARN Utils: Set SPARK_LOCAL_IP if you need to bind to another address\n",
      "22/03/25 16:22:51 WARN NativeCodeLoader: Unable to load native-hadoop library for your platform... using builtin-java classes where applicable\n",
      "Using Spark's default log4j profile: org/apache/spark/log4j-defaults.properties\n",
      "Setting default log level to \"WARN\".\n",
      "To adjust logging level use sc.setLogLevel(newLevel). For SparkR, use setLogLevel(newLevel).\n"
     ]
    }
   ],
   "source": [
    "# Session setup\n",
    "from pyspark.sql import SparkSession\n",
    "spark = SparkSession.builder.appName(\"NYC\").getOrCreate()"
   ]
  },
  {
   "cell_type": "code",
   "execution_count": 4,
   "metadata": {},
   "outputs": [
    {
     "name": "stderr",
     "output_type": "stream",
     "text": [
      "                                                                                \r"
     ]
    }
   ],
   "source": [
    "# loading csv data\n",
    "data = spark.read.csv('/Users/futamatatakumi/Documents/Python/RS_project/Parking_Violations_Issued_-_Fiscal_Year_2017.csv', header=True, inferSchema=True)"
   ]
  },
  {
   "cell_type": "code",
   "execution_count": 6,
   "metadata": {},
   "outputs": [
    {
     "name": "stdout",
     "output_type": "stream",
     "text": [
      "root\n",
      " |-- Summons Number: long (nullable = true)\n",
      " |-- Plate ID: string (nullable = true)\n",
      " |-- Registration State: string (nullable = true)\n",
      " |-- Plate Type: string (nullable = true)\n",
      " |-- Issue Date: string (nullable = true)\n",
      " |-- Violation Code: integer (nullable = true)\n",
      " |-- Vehicle Body Type: string (nullable = true)\n",
      " |-- Vehicle Make: string (nullable = true)\n",
      " |-- Issuing Agency: string (nullable = true)\n",
      " |-- Street Code1: integer (nullable = true)\n",
      " |-- Street Code2: integer (nullable = true)\n",
      " |-- Street Code3: integer (nullable = true)\n",
      " |-- Vehicle Expiration Date: integer (nullable = true)\n",
      " |-- Violation Location: integer (nullable = true)\n",
      " |-- Violation Precinct: integer (nullable = true)\n",
      " |-- Issuer Precinct: integer (nullable = true)\n",
      " |-- Issuer Code: integer (nullable = true)\n",
      " |-- Issuer Command: string (nullable = true)\n",
      " |-- Issuer Squad: string (nullable = true)\n",
      " |-- Violation Time: string (nullable = true)\n",
      " |-- Time First Observed: string (nullable = true)\n",
      " |-- Violation County: string (nullable = true)\n",
      " |-- Violation In Front Of Or Opposite: string (nullable = true)\n",
      " |-- House Number: string (nullable = true)\n",
      " |-- Street Name: string (nullable = true)\n",
      " |-- Intersecting Street: string (nullable = true)\n",
      " |-- Date First Observed: integer (nullable = true)\n",
      " |-- Law Section: integer (nullable = true)\n",
      " |-- Sub Division: string (nullable = true)\n",
      " |-- Violation Legal Code: string (nullable = true)\n",
      " |-- Days Parking In Effect    : string (nullable = true)\n",
      " |-- From Hours In Effect: string (nullable = true)\n",
      " |-- To Hours In Effect: string (nullable = true)\n",
      " |-- Vehicle Color: string (nullable = true)\n",
      " |-- Unregistered Vehicle?: integer (nullable = true)\n",
      " |-- Vehicle Year: integer (nullable = true)\n",
      " |-- Meter Number: string (nullable = true)\n",
      " |-- Feet From Curb: integer (nullable = true)\n",
      " |-- Violation Post Code: string (nullable = true)\n",
      " |-- Violation Description: string (nullable = true)\n",
      " |-- No Standing or Stopping Violation: string (nullable = true)\n",
      " |-- Hydrant Violation: string (nullable = true)\n",
      " |-- Double Parking Violation: string (nullable = true)\n",
      "\n"
     ]
    }
   ],
   "source": [
    "data.printSchema()"
   ]
  },
  {
   "cell_type": "code",
   "execution_count": 8,
   "metadata": {},
   "outputs": [
    {
     "name": "stderr",
     "output_type": "stream",
     "text": [
      "[Stage 6:==============================================>          (13 + 3) / 16]\r"
     ]
    },
    {
     "name": "stdout",
     "output_type": "stream",
     "text": [
      "data_shape: (10803028, 43)\n"
     ]
    },
    {
     "name": "stderr",
     "output_type": "stream",
     "text": [
      "\r",
      "[Stage 6:=====================================================>   (15 + 1) / 16]\r",
      "\r",
      "                                                                                \r"
     ]
    }
   ],
   "source": [
    "# checking shape\n",
    "shape = (data.count(), len(data.columns))\n",
    "print('data_shape:', shape)"
   ]
  },
  {
   "cell_type": "code",
   "execution_count": 15,
   "metadata": {},
   "outputs": [
    {
     "data": {
      "text/plain": [
       "[Row(Summons Number=5092469481, Plate ID='GZH7067', Registration State='NY', Plate Type='PAS', Issue Date='07/10/2016', Violation Code=7, Vehicle Body Type='SUBN', Vehicle Make='TOYOT', Issuing Agency='V', Street Code1=0, Street Code2=0, Street Code3=0, Vehicle Expiration Date=0, Violation Location=None, Violation Precinct=0, Issuer Precinct=0, Issuer Code=0, Issuer Command=None, Issuer Squad=None, Violation Time='0143A', Time First Observed=None, Violation County='BX', Violation In Front Of Or Opposite=None, House Number=None, Street Name='ALLERTON AVE (W/B) @', Intersecting Street='BARNES AVE', Date First Observed=0, Law Section=1111, Sub Division='D', Violation Legal Code='T', Days Parking In Effect    =None, From Hours In Effect=None, To Hours In Effect=None, Vehicle Color='GY', Unregistered Vehicle?=None, Vehicle Year=2001, Meter Number=None, Feet From Curb=0, Violation Post Code=None, Violation Description='FAILURE TO STOP AT RED LIGHT', No Standing or Stopping Violation=None, Hydrant Violation=None, Double Parking Violation=None),\n",
       " Row(Summons Number=5092451658, Plate ID='GZH7067', Registration State='NY', Plate Type='PAS', Issue Date='07/08/2016', Violation Code=7, Vehicle Body Type='SUBN', Vehicle Make='TOYOT', Issuing Agency='V', Street Code1=0, Street Code2=0, Street Code3=0, Vehicle Expiration Date=0, Violation Location=None, Violation Precinct=0, Issuer Precinct=0, Issuer Code=0, Issuer Command=None, Issuer Squad=None, Violation Time='0400P', Time First Observed=None, Violation County='BX', Violation In Front Of Or Opposite=None, House Number=None, Street Name='ALLERTON AVE (W/B) @', Intersecting Street='BARNES AVE', Date First Observed=0, Law Section=1111, Sub Division='D', Violation Legal Code='T', Days Parking In Effect    =None, From Hours In Effect=None, To Hours In Effect=None, Vehicle Color='GY', Unregistered Vehicle?=None, Vehicle Year=2001, Meter Number=None, Feet From Curb=0, Violation Post Code=None, Violation Description='FAILURE TO STOP AT RED LIGHT', No Standing or Stopping Violation=None, Hydrant Violation=None, Double Parking Violation=None)]"
      ]
     },
     "execution_count": 15,
     "metadata": {},
     "output_type": "execute_result"
    }
   ],
   "source": [
    "# showing two rows\n",
    "data.head(2)"
   ]
  },
  {
   "cell_type": "code",
   "execution_count": 16,
   "metadata": {},
   "outputs": [
    {
     "name": "stderr",
     "output_type": "stream",
     "text": [
      "[Stage 15:====================================================>   (15 + 1) / 16]\r"
     ]
    },
    {
     "name": "stdout",
     "output_type": "stream",
     "text": [
      "+-------+--------------------+--------+------------------+--------------------+----------+------------------+-----------------+------------------+--------------+-----------------+------------------+------------------+-----------------------+------------------+------------------+-----------------+------------------+--------------------+--------------------+-----------------+-------------------+----------------+---------------------------------+------------+-----------------+-------------------+-------------------+------------------+------------------+--------------------+--------------------------+--------------------+------------------+-------------+---------------------+------------------+------------+-------------------+-------------------+---------------------+---------------------------------+-----------------+------------------------+\n",
      "|summary|      Summons Number|Plate ID|Registration State|          Plate Type|Issue Date|    Violation Code|Vehicle Body Type|      Vehicle Make|Issuing Agency|     Street Code1|      Street Code2|      Street Code3|Vehicle Expiration Date|Violation Location|Violation Precinct|  Issuer Precinct|       Issuer Code|      Issuer Command|        Issuer Squad|   Violation Time|Time First Observed|Violation County|Violation In Front Of Or Opposite|House Number|      Street Name|Intersecting Street|Date First Observed|       Law Section|      Sub Division|Violation Legal Code|Days Parking In Effect    |From Hours In Effect|To Hours In Effect|Vehicle Color|Unregistered Vehicle?|      Vehicle Year|Meter Number|     Feet From Curb|Violation Post Code|Violation Description|No Standing or Stopping Violation|Hydrant Violation|Double Parking Violation|\n",
      "+-------+--------------------+--------+------------------+--------------------+----------+------------------+-----------------+------------------+--------------+-----------------+------------------+------------------+-----------------------+------------------+------------------+-----------------+------------------+--------------------+--------------------+-----------------+-------------------+----------------+---------------------------------+------------+-----------------+-------------------+-------------------+------------------+------------------+--------------------+--------------------------+--------------------+------------------+-------------+---------------------+------------------+------------+-------------------+-------------------+---------------------+---------------------------------+-----------------+------------------------+\n",
      "|  count|            10803028|10803027|          10803028|            10803028|  10803028|          10803028|         10760333|          10729981|      10803028|         10803028|          10803028|          10803028|               10803028|           8730628|          10803028|         10803028|          10803028|             8740383|             8739487|         10802965|             840747|        10763481|                          8641793|     8514410|         10799019|            3367555|           10803028|          10803028|          10802255|             2062707|                   8090612|             5352082|           5352085|     10650696|              1127596|          10803028|     1785473|           10803028|            7612841|              9675558|                                0|                0|                       0|\n",
      "|   mean| 6.817447029065297E9|Infinity|              99.0|               999.0|      null|34.599430455979565|              NaN| 6519.974025974026|          null|23866.58206550978|20310.564316226893|20344.640907623307|   2.4435708523507204E7| 55.69675549112847| 45.01216260848347|46.82931211508477| 336764.4378194706|6.420215976065434E48|0.014193973061613376|909.2857142857143|  726.3719512195122|            null|                              0.0|    Infinity|191.3678373382625|  202339.9478672986| 450834.63286571135| 551.1725432906404| 81.72530641672675| 0.12698412698412698|                       0.0|   840.3071895424837| 735.4838044151021|     Infinity|                  0.0|1578.1547890091556|         0.0|0.12000561324102835|  27.24142454822278|                 null|                             null|             null|                    null|\n",
      "| stddev|2.3202339623282228E9|     NaN|               0.0|2.025136872870280...|      null|19.359868716323987|              NaN|18091.257389147086|          null|22666.90191326499|21945.772147764088| 22013.47311776343|   2.6048015988999326E7| 37.94433260429148|40.552560268436046|62.66703577269474|225380.61029024993|5.665781488932244...|  10.656063239225876|791.8453853409226|  506.4788364026445|            null|                              NaN|         NaN|628.8332461648049|  3788477.171020289| 2981223.4110276517|295.06805326776197|36.374557310398714|  0.7723458921774223|                       NaN|  215.38048422094434|341.98170217438485|          NaN|                  0.0| 825.5066693442521|         NaN| 0.8288493988274772|  25.30846965764304|                 null|                             null|             null|                    null|\n",
      "|    min|          1002884949|   #1MOM|                99|                 999|01/01/2012|                 0|               00|             ,FREI|             B|                0|                 0|                 0|                      0|                 1|                 0|                0|                 0|                $D03|                0000|            .240P|                  0|              BK|                                0|        +904|     ,HALL STREET|                 #1|                  0|                 0|                00|                   0|                   0000000|                   0|             0  :A|            ,|                    0|                 0|           -|                  0|               0000| 01-No Intercity P...|                             null|             null|                    null|\n",
      "|    max|          8585600044|       ~|                WY|                 WUG|12/31/2018|                99|             ZUHE|               ken|             X|            98020|             98310|             98280|               88888888|               933|               933|              997|            999992|                `011|                   Z|            8755P|              2358P|              ST|                                X|        `300|      west thames|                 xx|           20220613|              6408|                 p|                   T|                   YYYYYYY|               LL  A|                LL|        white|                    0|              2069|    ___-____|                 16|                ZAL| PHTO SCHOOL ZN SP...|                             null|             null|                    null|\n",
      "+-------+--------------------+--------+------------------+--------------------+----------+------------------+-----------------+------------------+--------------+-----------------+------------------+------------------+-----------------------+------------------+------------------+-----------------+------------------+--------------------+--------------------+-----------------+-------------------+----------------+---------------------------------+------------+-----------------+-------------------+-------------------+------------------+------------------+--------------------+--------------------------+--------------------+------------------+-------------+---------------------+------------------+------------+-------------------+-------------------+---------------------+---------------------------------+-----------------+------------------------+\n",
      "\n"
     ]
    },
    {
     "name": "stderr",
     "output_type": "stream",
     "text": [
      "\r",
      "[Stage 16:>                                                         (0 + 1) / 1]\r",
      "\r",
      "                                                                                \r"
     ]
    }
   ],
   "source": [
    "# general statistics\n",
    "data.describe().show()"
   ]
  },
  {
   "cell_type": "code",
   "execution_count": 17,
   "metadata": {},
   "outputs": [
    {
     "name": "stderr",
     "output_type": "stream",
     "text": [
      "                                                                                \r"
     ]
    },
    {
     "data": {
      "text/plain": [
       "Row(summary='count', Summons Number='10803028', Plate ID='10803027', Registration State='10803028', Plate Type='10803028', Issue Date='10803028', Violation Code='10803028', Vehicle Body Type='10760333', Vehicle Make='10729981', Issuing Agency='10803028', Street Code1='10803028', Street Code2='10803028', Street Code3='10803028', Vehicle Expiration Date='10803028', Violation Location='8730628', Violation Precinct='10803028', Issuer Precinct='10803028', Issuer Code='10803028', Issuer Command='8740383', Issuer Squad='8739487', Violation Time='10802965', Time First Observed='840747', Violation County='10763481', Violation In Front Of Or Opposite='8641793', House Number='8514410', Street Name='10799019', Intersecting Street='3367555', Date First Observed='10803028', Law Section='10803028', Sub Division='10802255', Violation Legal Code='2062707', Days Parking In Effect    ='8090612', From Hours In Effect='5352082', To Hours In Effect='5352085', Vehicle Color='10650696', Unregistered Vehicle?='1127596', Vehicle Year='10803028', Meter Number='1785473', Feet From Curb='10803028', Violation Post Code='7612841', Violation Description='9675558', No Standing or Stopping Violation='0', Hydrant Violation='0', Double Parking Violation='0')"
      ]
     },
     "execution_count": 17,
     "metadata": {},
     "output_type": "execute_result"
    }
   ],
   "source": [
    "# checking null\n",
    "data.describe().collect()[0]"
   ]
  },
  {
   "cell_type": "code",
   "execution_count": 18,
   "metadata": {},
   "outputs": [
    {
     "data": {
      "text/plain": [
       "[('Summons Number', 'bigint'),\n",
       " ('Plate ID', 'string'),\n",
       " ('Registration State', 'string'),\n",
       " ('Plate Type', 'string'),\n",
       " ('Issue Date', 'string'),\n",
       " ('Violation Code', 'int'),\n",
       " ('Vehicle Body Type', 'string'),\n",
       " ('Vehicle Make', 'string'),\n",
       " ('Issuing Agency', 'string'),\n",
       " ('Street Code1', 'int'),\n",
       " ('Street Code2', 'int'),\n",
       " ('Street Code3', 'int'),\n",
       " ('Vehicle Expiration Date', 'int'),\n",
       " ('Violation Location', 'int'),\n",
       " ('Violation Precinct', 'int'),\n",
       " ('Issuer Precinct', 'int'),\n",
       " ('Issuer Code', 'int'),\n",
       " ('Issuer Command', 'string'),\n",
       " ('Issuer Squad', 'string'),\n",
       " ('Violation Time', 'string'),\n",
       " ('Time First Observed', 'string'),\n",
       " ('Violation County', 'string'),\n",
       " ('Violation In Front Of Or Opposite', 'string'),\n",
       " ('House Number', 'string'),\n",
       " ('Street Name', 'string'),\n",
       " ('Intersecting Street', 'string'),\n",
       " ('Date First Observed', 'int'),\n",
       " ('Law Section', 'int'),\n",
       " ('Sub Division', 'string'),\n",
       " ('Violation Legal Code', 'string'),\n",
       " ('Days Parking In Effect    ', 'string'),\n",
       " ('From Hours In Effect', 'string'),\n",
       " ('To Hours In Effect', 'string'),\n",
       " ('Vehicle Color', 'string'),\n",
       " ('Unregistered Vehicle?', 'int'),\n",
       " ('Vehicle Year', 'int'),\n",
       " ('Meter Number', 'string'),\n",
       " ('Feet From Curb', 'int'),\n",
       " ('Violation Post Code', 'string'),\n",
       " ('Violation Description', 'string'),\n",
       " ('No Standing or Stopping Violation', 'string'),\n",
       " ('Hydrant Violation', 'string'),\n",
       " ('Double Parking Violation', 'string')]"
      ]
     },
     "execution_count": 18,
     "metadata": {},
     "output_type": "execute_result"
    }
   ],
   "source": [
    "# checking data types\n",
    "data.dtypes"
   ]
  },
  {
   "cell_type": "code",
   "execution_count": 25,
   "metadata": {},
   "outputs": [
    {
     "data": {
      "text/plain": [
       "[Row(Registration State='NY', Summons Number=5092469481),\n",
       " Row(Registration State='NY', Summons Number=5092451658)]"
      ]
     },
     "execution_count": 25,
     "metadata": {},
     "output_type": "execute_result"
    }
   ],
   "source": [
    "# removing unnecessary columns\n",
    "data_select = data[['Registration State', 'Summons Number']]\n",
    "data_select.head(2)"
   ]
  },
  {
   "cell_type": "code",
   "execution_count": 29,
   "metadata": {
    "scrolled": true
   },
   "outputs": [
    {
     "name": "stderr",
     "output_type": "stream",
     "text": [
      "[Stage 37:====================================================>   (15 + 1) / 16]\r"
     ]
    },
    {
     "name": "stdout",
     "output_type": "stream",
     "text": [
      "+------------------+-------+\n",
      "|Registration State|  count|\n",
      "+------------------+-------+\n",
      "|                NY|8481061|\n",
      "|                NJ| 925965|\n",
      "|                PA| 285419|\n",
      "|                FL| 144556|\n",
      "|                CT| 141088|\n",
      "+------------------+-------+\n",
      "only showing top 5 rows\n",
      "\n"
     ]
    },
    {
     "name": "stderr",
     "output_type": "stream",
     "text": [
      "\r",
      "                                                                                \r"
     ]
    }
   ],
   "source": [
    "#grouping the data by Registration State and counting the number of tickets issued\n",
    "data_grouped = data_select.groupBy(\"Registration State\").count().sort(\"count\", ascending=False).show(5)"
   ]
  },
  {
   "cell_type": "markdown",
   "metadata": {},
   "source": [
    "Conclusion: From this we can conclude, that majorities tickets were issued to the locals of New York, followed by New Jersey and Pennsylvania"
   ]
  }
 ],
 "metadata": {
  "kernelspec": {
   "display_name": "Python 3 (ipykernel)",
   "language": "python",
   "name": "python3"
  },
  "language_info": {
   "codemirror_mode": {
    "name": "ipython",
    "version": 3
   },
   "file_extension": ".py",
   "mimetype": "text/x-python",
   "name": "python",
   "nbconvert_exporter": "python",
   "pygments_lexer": "ipython3",
   "version": "3.8.5"
  }
 },
 "nbformat": 4,
 "nbformat_minor": 4
}
